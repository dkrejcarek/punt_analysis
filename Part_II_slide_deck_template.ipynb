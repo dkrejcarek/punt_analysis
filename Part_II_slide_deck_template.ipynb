{
 "cells": [
  {
   "cell_type": "markdown",
   "metadata": {
    "slideshow": {
     "slide_type": "slide"
    }
   },
   "source": [
    "# Part II - Punt Review\n",
    "## by David Krejcarek"
   ]
  },
  {
   "cell_type": "markdown",
   "metadata": {
    "slideshow": {
     "slide_type": "slide"
    }
   },
   "source": [
    ">**Before you start**: You must have the README.md file ready that include a summary of main findings that reflects on the steps taken during the data exploration (Part I notebook). The README.md file should also describes the key insights that will be conveyed by the explanatory slide deck (Part II  outcome)\n",
    "\n",
    "\n",
    "\n",
    "## Investigation Overview\n",
    "\n",
    "\n",
    "> Describe the overall goals of your presentation here. Add a summary of key insights at the start of the notebook, just as you added in the README.md. This will help your notebook to stay aligned to the key insights you want to include in your slide deck.\n",
    "\n",
    "> **Rubric Tip**: The key insights in the slideshow must match those documented in the README.md summary. \n",
    "\n",
    "\n",
    "## Dataset Overview\n",
    "\n",
    "> Provide a brief overview of the dataset to be presented here."
   ]
  },
  {
   "cell_type": "code",
   "execution_count": 1,
   "metadata": {
    "jupyter": {
     "source_hidden": true
    },
    "slideshow": {
     "slide_type": "skip"
    },
    "tags": []
   },
   "outputs": [],
   "source": [
    "# import all packages and set plots to be embedded inline\n",
    "import numpy as np\n",
    "import pandas as pd\n",
    "import matplotlib.pyplot as plt\n",
    "import seaborn as sb\n",
    "import os\n",
    "\n",
    "%matplotlib inline\n",
    "\n",
    "# suppress warnings from final output\n",
    "import warnings\n",
    "warnings.simplefilter(\"ignore\")"
   ]
  },
  {
   "cell_type": "code",
   "execution_count": 2,
   "metadata": {
    "jupyter": {
     "source_hidden": true
    },
    "slideshow": {
     "slide_type": "skip"
    },
    "tags": []
   },
   "outputs": [],
   "source": [
    "# load in the dataset into a pandas dataframe\n",
    "punt_data = pd.read_csv(os.path.join('data', 'punt_data.csv'))"
   ]
  },
  {
   "cell_type": "markdown",
   "metadata": {
    "slideshow": {
     "slide_type": "notes"
    }
   },
   "source": [
    "> Note that the above cells have been set as \"Skip\"-type slides. That means\n",
    "that when the notebook is rendered as http slides, those cells won't show up."
   ]
  },
  {
   "cell_type": "markdown",
   "metadata": {
    "slideshow": {
     "slide_type": "slide"
    }
   },
   "source": [
    "## Distribution of Punt Length\n",
    "\n",
    "The punt data is normall distributed about "
   ]
  },
  {
   "cell_type": "code",
   "execution_count": 7,
   "metadata": {
    "jupyter": {
     "source_hidden": true
    },
    "slideshow": {
     "slide_type": "subslide"
    },
    "tags": []
   },
   "outputs": [
    {
     "data": {
      "image/png": "[encoded data removed]",
      "text/plain": [
       "<Figure size 936x576 with 1 Axes>"
      ]
     },
     "metadata": {
      "needs_background": "light"
     },
     "output_type": "display_data"
    }
   ],
   "source": [
    "bins = np.arange(punt_data.kickLength.min(), punt_data.kickLength.max() + 5, 5)\n",
    "\n",
    "plt.figure(figsize=[13,8])\n",
    "plt.hist(data = punt_data, x = 'kickLength', bins = bins)\n",
    "plt.title('Distribution of Kick Length (2018 thru 2020)')\n",
    "plt.xlabel('Kick Length (yards)')\n",
    "plt.ylabel('Count');"
   ]
  },
  {
   "cell_type": "markdown",
   "metadata": {
    "slideshow": {
     "slide_type": "slide"
    }
   },
   "source": [
    "## Average Rreturn Yard per Return\n",
    "\n",
    "We first looked at the \n",
    "> You should have at least three visualizations in your presentation,\n",
    "but feel free to add more if you'd like!"
   ]
  },
  {
   "cell_type": "markdown",
   "metadata": {
    "slideshow": {
     "slide_type": "subslide"
    }
   },
   "source": [
    "### Average Return Yards per Return"
   ]
  },
  {
   "cell_type": "code",
   "execution_count": 4,
   "metadata": {
    "jupyter": {
     "source_hidden": true
    },
    "tags": []
   },
   "outputs": [],
   "source": [
    "# Determine the yards per return average by season\n",
    "def get_return_data(s, df):\n",
    "    if s == 'All':\n",
    "         # Get the data for number of return counts\n",
    "        punt_return_counts = df.query('specialTeamsPlayType == \"Punt\"'.format(s)).returnerId.value_counts()\n",
    "        kickoff_return_counts = df.query('specialTeamsPlayType == \"Kickoff\"'.format(s)).returnerId.value_counts()\n",
    "        # get the the series for the total yards\n",
    "        punt_return_yards = df.query('specialTeamsPlayType == \"Punt\"'.format(s)).groupby('returnerId').sum()['kickReturnYardage']\n",
    "        kickoff_return_yards = df.query('specialTeamsPlayType == \"Kickoff\"'.format(s)).groupby('returnerId').sum()['kickReturnYardage']\n",
    "\n",
    "        # Create a dictionary for concatations\n",
    "        data = {'punt_return_yards': punt_return_yards,\n",
    "                'punt_return_counts': punt_return_counts,\n",
    "                'kickoff_return_yards': kickoff_return_yards,\n",
    "                'kickoff_return_counts': kickoff_return_counts}\n",
    "\n",
    "        # Concat the two series into new datafra,e\n",
    "        df_returner = pd.concat(data, axis=1) \n",
    "\n",
    "        # determine the yards per return\n",
    "        df_returner['punt_yard_per_return'] = df_returner['punt_return_yards'] / df_returner['punt_return_counts']\n",
    "        df_returner['kickoff_yard_per_return'] = df_returner['kickoff_return_yards'] /df_returner['kickoff_return_counts']\n",
    "\n",
    "        return df_returner\n",
    "    else:\n",
    "        # Get the data for number of return counts\n",
    "        punt_return_counts = df.query('season == {} & specialTeamsPlayType == \"Punt\"'.format(s)).returnerId.value_counts()\n",
    "        kickoff_return_counts = df.query('season == {} & specialTeamsPlayType == \"Kickoff\"'.format(s)).returnerId.value_counts()\n",
    "        # get the the series for the total yards\n",
    "        punt_return_yards = df.query('season ==  {} & specialTeamsPlayType == \"Punt\"'.format(s)).groupby('returnerId').sum()['kickReturnYardage']\n",
    "        kickoff_return_yards = df.query('season == {} & specialTeamsPlayType == \"Kickoff\"'.format(s)).groupby('returnerId').sum()['kickReturnYardage']\n",
    "\n",
    "        # Create a dictionary for concatations\n",
    "        data = {'punt_return_yards': punt_return_yards,\n",
    "                'punt_return_counts': punt_return_counts,\n",
    "                'kickoff_return_yards': kickoff_return_yards,\n",
    "                'kickoff_return_counts': kickoff_return_counts}\n",
    "\n",
    "        # Concat the two series into new datafra,e\n",
    "        df_returner = pd.concat(data, axis=1) \n",
    "\n",
    "        # determine the yards per return\n",
    "        df_returner['punt_yard_per_return'] = df_returner['punt_return_yards'] / df_returner['punt_return_counts']\n",
    "        df_returner['kickoff_yard_per_return'] = df_returner['kickoff_return_yards'] /df_returner['kickoff_return_counts']\n",
    "\n",
    "        return df_returner"
   ]
  },
  {
   "cell_type": "code",
   "execution_count": 6,
   "metadata": {
    "jupyter": {
     "source_hidden": true
    },
    "tags": []
   },
   "outputs": [
    {
     "data": {
      "image/png": "[encoded data removed]",
      "text/plain": [
       "<Figure size 1008x432 with 1 Axes>"
      ]
     },
     "metadata": {
      "needs_background": "light"
     },
     "output_type": "display_data"
    }
   ],
   "source": [
    "seasons = punt_data.season.value_counts().index\n",
    "min_x = -6\n",
    "max_x = 20\n",
    "step = 2\n",
    "x_layout = np.arange(min_x, max_x + step, step)\n",
    "\n",
    "plt.figure(figsize=[14,6])\n",
    "\n",
    "returner_data = get_return_data('All', punt_data)\n",
    " \n",
    "bins = x_layout\n",
    "plt.hist(returner_data['punt_yard_per_return'], alpha = .6, label='Punt', bins = bins)\n",
    "plt.title('Average Return Yards per Return (2018 thru 2020)')\n",
    "plt.xticks(x_layout, x_layout) \n",
    "plt.xlim(min_x, max_x)\n",
    "plt.xlabel('Yards Per Return')\n",
    "plt.ylabel('Count');"
   ]
  },
  {
   "cell_type": "code",
   "execution_count": null,
   "metadata": {},
   "outputs": [],
   "source": []
  },
  {
   "cell_type": "markdown",
   "metadata": {},
   "source": [
    "## Distribution of Hang Time"
   ]
  },
  {
   "cell_type": "code",
   "execution_count": 11,
   "metadata": {
    "jupyter": {
     "source_hidden": true
    },
    "tags": []
   },
   "outputs": [
    {
     "data": {
      "image/png": "[encoded data removed]",
      "text/plain": [
       "<Figure size 936x576 with 1 Axes>"
      ]
     },
     "metadata": {
      "needs_background": "light"
     },
     "output_type": "display_data"
    }
   ],
   "source": [
    "plt.figure(figsize=[13,8])\n",
    "bins = np.arange(punt_data.hangTime.min(), punt_data.hangTime.max() + .2, .2)\n",
    "\n",
    "plt.hist(punt_data.hangTime, bins=bins) \n",
    "plt.title('Distribution of Punt Hang Time')\n",
    "plt.xticks(bins)\n",
    "plt.xlabel('Hang Time (sec)')\n",
    "plt.ylabel('Count');"
   ]
  },
  {
   "cell_type": "markdown",
   "metadata": {
    "slideshow": {
     "slide_type": "slide"
    }
   },
   "source": [
    "## Hang Time and Kick Length Verusu Punt Result\n",
    "\n"
   ]
  },
  {
   "cell_type": "code",
   "execution_count": 10,
   "metadata": {
    "jupyter": {
     "source_hidden": true
    },
    "slideshow": {
     "slide_type": "subslide"
    },
    "tags": []
   },
   "outputs": [
    {
     "data": {
      "image/png": "[encoded data removed]",
      "text/plain": [
       "<Figure size 728x360 with 3 Axes>"
      ]
     },
     "metadata": {
      "needs_background": "light"
     },
     "output_type": "display_data"
    }
   ],
   "source": [
    "# plot to see if there is a corelation between hang time and kick length\n",
    "x_bins = np.arange(punt_data.hangTime.min(), punt_data['hangTime'].max() + 0.125, 0.125)\n",
    "y_bins = np.arange(punt_data.kickLength.min(), punt_data.kickLength.max() + 2.5, 2.5)\n",
    "\n",
    "# plot the hang time versus kick length split among Return and Fair Catch.  With the amoutn of data two seperate heat maps would make more since\n",
    "g = sb.FacetGrid(data = punt_data, col = 'specialTeamsResult', height=5, aspect = 1)\n",
    "g.map(plt.hist2d, 'hangTime', 'kickLength', cmin=.5, cmap='viridis_r', bins = [x_bins, y_bins])\n",
    "g.fig.subplots_adjust(top  = 0.85)\n",
    "g.fig.suptitle('Hang Time Vs Kick Length by Play Result', fontsize=16)\n",
    "g.set_titles(\"{col_name}\") # use this argument literally\n",
    "g.set_axis_labels('Hang Time (sec)', 'Kick Length (yard)')\n",
    "plt.colorbar()\n",
    "g.add_legend();"
   ]
  },
  {
   "cell_type": "markdown",
   "metadata": {
    "slideshow": {
     "slide_type": "notes"
    }
   },
   "source": [
    ">**Generate Slideshow**: Once you're ready to generate your slideshow, use the `jupyter nbconvert` command to generate the HTML slide show. . From the terminal or command line, use the following expression."
   ]
  },
  {
   "cell_type": "code",
   "execution_count": null,
   "metadata": {
    "slideshow": {
     "slide_type": "skip"
    }
   },
   "outputs": [],
   "source": [
    "!jupyter nbconvert <Part_II_Filename>.ipynb --to slides --post serve --no-input --no-prompt"
   ]
  },
  {
   "cell_type": "markdown",
   "metadata": {
    "slideshow": {
     "slide_type": "notes"
    }
   },
   "source": [
    "> This should open a tab in your web browser where you can scroll through your presentation. Sub-slides can be accessed by pressing 'down' when viewing its parent slide. Make sure you remove all of the quote-formatted guide notes like this one before you finish your presentation! At last, you can stop the Kernel. "
   ]
  },
  {
   "cell_type": "code",
   "execution_count": null,
   "metadata": {},
   "outputs": [],
   "source": []
  }
 ],
 "metadata": {
  "celltoolbar": "Slideshow",
  "kernelspec": {
   "display_name": "Python 3 (ipykernel)",
   "language": "python",
   "name": "python3"
  },
  "language_info": {
   "codemirror_mode": {
    "name": "ipython",
    "version": 3
   },
   "file_extension": ".py",
   "mimetype": "text/x-python",
   "name": "python",
   "nbconvert_exporter": "python",
   "pygments_lexer": "ipython3",
   "version": "3.8.11"
  }
 },
 "nbformat": 4,
 "nbformat_minor": 4
}
