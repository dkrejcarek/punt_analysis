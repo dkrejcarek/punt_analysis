{
 "cells": [
  {
   "cell_type": "markdown",
   "metadata": {},
   "source": [
    "# Part I - NFL Big Data Bowl 2022\n",
    "## by David Krejcarek\n",
    "\n",
    "## Introduction\n",
    "\n",
    "Before National Football League (NFL) coaches celebrate a big W, they strategize ways to improve field position and score points. Both of these objectives receive significant contributions from special teams plays, which consist of punts, kickoffs, field goals and extra points. These play types take on important roles in a game’s final score—so much so that coaches say they're a third of the game. Yet special teams remain an understudied part of American football, with an opportunity for data science to offer better ways to understand its impact.\n",
    "\n",
    "The 2022 Big Data Bowl creates the opportunity for you (and the world!) to learn more about special teams play than ever before. We've provided the NFL's Next Gen Stats (NGS) tracking data from all 2018-2020 special teams plays. This data provides location information for each special teams player, wherever they are on the field, and includes their speed, acceleration, and direction. Additionally, and for the first time in Big Data Bowl history, participants can utilize scouting data from PFF, which supplements the tracking data with football specific metrics that coaches find critical to team success.\n",
    "\n",
    "The NFL is America's most popular sports league. Founded in 1920, the organization behind American football has developed the model for the successful modern sports league. They're committed to advancing every aspect of the game, including the lesser researched special teams. In this competition, you’ll quantify what happens on special teams plays. You might create a new special teams metric, quantify team or individual strategies, rank players, or even something we haven’t considered.\n",
    "\n",
    "With your creativity and analytical skills, the development of these new methods could lead to additional stats for special teams plays. If successful, your effort may even be adopted by the NFL for on air distribution, and you can watch future games knowing you had a hand in improving America's most popular sports league.\n",
    "\n",
    "Summary of data\n",
    "The 2022 Big Data Bowl data contains Next Gen Stats player tracking, play, game, player, and PFF scouting data for all 2018-2020 Special Teams plays. Here, you'll find a summary of each data set in the 2022 Data Bowl, a list of key variables to join on, and a description of each variable.\n",
    "\n",
    "## Preliminary Wrangling\n"
   ]
  },
  {
   "cell_type": "code",
   "execution_count": 2,
   "metadata": {},
   "outputs": [],
   "source": [
    "# import all packages and set plots to be embedded inline\n",
    "import numpy as np\n",
    "import pandas as pd\n",
    "import os\n",
    "import matplotlib.pyplot as plt\n",
    "import seaborn as sb\n",
    "\n",
    "%matplotlib inline"
   ]
  },
  {
   "cell_type": "markdown",
   "metadata": {},
   "source": [
    "> Load in your dataset and describe its properties through the questions below. Try and motivate your exploration goals through this section.\n"
   ]
  },
  {
   "cell_type": "code",
   "execution_count": 5,
   "metadata": {},
   "outputs": [],
   "source": [
    "# Load three data bases\n",
    "games = pd.read_csv(os.path.join('data', 'games.csv'))\n",
    "players = pd.read_csv(os.path.join('data', 'players.csv'))\n",
    "plays = pd.read_csv(os.path.join('data', 'plays.csv'))\n",
    "pff = pd.read_csv(os.path.join('data', 'PFFScoutingData.csv'))"
   ]
  },
  {
   "cell_type": "code",
   "execution_count": 7,
   "metadata": {},
   "outputs": [
    {
     "name": "stdout",
     "output_type": "stream",
     "text": [
      "(764, 7)\n",
      "(2732, 7)\n",
      "(19979, 25)\n",
      "(19979, 20)\n"
     ]
    }
   ],
   "source": [
    "print(games.shape)\n",
    "print(players.shape)\n",
    "print(plays.shape)\n",
    "print(pff.shape)"
   ]
  },
  {
   "cell_type": "code",
   "execution_count": 15,
   "metadata": {},
   "outputs": [],
   "source": [
    "# Some standard variables\n",
    "BASE_COLOR = sb.color_palette()[0]"
   ]
  },
  {
   "cell_type": "markdown",
   "metadata": {},
   "source": [
    "### What is the structure of your dataset?\n",
    "\n",
    "> There are three seperate tables:\n",
    "    Game data: The games.csv contains the teams playing in each game. The key variable is gameId.  This contains 764 rows with 7 columns\n",
    "\n",
    "> Play data: The plays.csv file contains play-level information from each game. The key variables are gameId and playId. Contains a total 19,979 rows with 25 columns\n",
    "\n",
    "> Player data: The players.csv file contains player-level information from players that participated in any of the tracking data files. The key variable is nflId. Contains 2,732 rows with 7 columns\n",
    "\n",
    "### What is/are the main feature(s) of interest in your dataset?\n",
    "\n",
    "> Is there a spefic feature of a kick off return player that makes them ideal to be a good returner\n",
    "> \n",
    "\n",
    "### What features in the dataset do you think will help support your investigation into your feature(s) of interest?\n",
    "\n",
    "> Determine which player is has the most return yards, most return yards per return.\n",
    "> Will need to see if there is a feature that is common among the top returners.\n",
    "> Will need to see if there is a difference in returns yard as a season progresses.  \n",
    "> Does a specific style contrbute to the returners success or failure."
   ]
  },
  {
   "cell_type": "markdown",
   "metadata": {},
   "source": [
    "## Univariate Exploration\n",
    "\n",
    "> In this section, investigate distributions of individual variables. If\n",
    "you see unusual points or outliers, take a deeper look to clean things up\n",
    "and prepare yourself to look at relationships between variables.\n",
    "\n",
    "\n",
    "> **Rubric Tip**: The project (Parts I alone) should have at least 15 visualizations distributed over univariate, bivariate, and multivariate plots to explore many relationships in the data set.  Use reasoning to justify the flow of the exploration.\n",
    "\n",
    "\n",
    "\n",
    ">**Rubric Tip**: Use the \"Question-Visualization-Observations\" framework  throughout the exploration. This framework involves **asking a question from the data, creating a visualization to find answers, and then recording observations after each visualisation.** \n"
   ]
  },
  {
   "cell_type": "code",
   "execution_count": null,
   "metadata": {},
   "outputs": [],
   "source": []
  },
  {
   "cell_type": "code",
   "execution_count": 37,
   "metadata": {},
   "outputs": [
    {
     "name": "stdout",
     "output_type": "stream",
     "text": [
      "Values of Play Type\n",
      "Kickoff    7843\n",
      "Punt       5991\n",
      "Name: specialTeamsPlayType, dtype: int64\n",
      "Values of Play Results\n",
      "Return                      5207\n",
      "Touchback                   5156\n",
      "Fair Catch                  1645\n",
      "Downed                       833\n",
      "Out of Bounds                650\n",
      "Muffed                       214\n",
      "Non-Special Teams Result      74\n",
      "Blocked Punt                  39\n",
      "Kickoff Team Recovery         16\n",
      "Name: specialTeamsResult, dtype: int64\n"
     ]
    }
   ],
   "source": [
    "# Determine which player has the most return yards\n",
    "# Filter to only Kickoff and punt to determine return yards only\n",
    "play_type = ['Kickoff', 'Punt']\n",
    "plays_returnable = plays[plays['specialTeamsPlayType'].isin(play_type)]\n",
    "\n",
    "# Confrim it worked\n",
    "print('Values of Play Type')\n",
    "print(plays_returnable.specialTeamsPlayType.value_counts())\n",
    "print('Values of Play Results')\n",
    "print(plays_returnable.specialTeamsResult.value_counts())"
   ]
  },
  {
   "cell_type": "code",
   "execution_count": 28,
   "metadata": {},
   "outputs": [
    {
     "data": {
      "text/plain": [
       "''"
      ]
     },
     "execution_count": 28,
     "metadata": {},
     "output_type": "execute_result"
    },
    {
     "data": {
      "image/png": "[encoded data removed]",
      "text/plain": [
       "<Figure size 1008x432 with 1 Axes>"
      ]
     },
     "metadata": {
      "needs_background": "light"
     },
     "output_type": "display_data"
    }
   ],
   "source": [
    "# Display the results of these kicks, this is a categorical element so a bar chart would be appropiate\n",
    "plt.figure(figsize=[14,6])\n",
    "sb.countplot(y =plays_returnable['specialTeamsResult'], color=BASE_COLOR, order=plays_returnable.specialTeamsResult.value_counts().index)\n",
    ";"
   ]
  },
  {
   "cell_type": "markdown",
   "metadata": {},
   "source": [
    "The intial review of the the play type results of kickpff and returns shows that the majority of the Results appears to be a return followed by a touchback.  This would be an interesting to see of this has changed over the course of the seasons.  And also what the diffence is between kick off and punts"
   ]
  },
  {
   "cell_type": "code",
   "execution_count": 38,
   "metadata": {},
   "outputs": [
    {
     "name": "stdout",
     "output_type": "stream",
     "text": [
      "<class 'pandas.core.frame.DataFrame'>\n",
      "Int64Index: 13834 entries, 0 to 13833\n",
      "Data columns (total 31 columns):\n",
      " #   Column                  Non-Null Count  Dtype  \n",
      "---  ------                  --------------  -----  \n",
      " 0   gameId                  13834 non-null  int64  \n",
      " 1   playId                  13834 non-null  int64  \n",
      " 2   playDescription         13834 non-null  object \n",
      " 3   quarter                 13834 non-null  int64  \n",
      " 4   down                    13834 non-null  int64  \n",
      " 5   yardsToGo               13834 non-null  int64  \n",
      " 6   possessionTeam          13834 non-null  object \n",
      " 7   specialTeamsPlayType    13834 non-null  object \n",
      " 8   specialTeamsResult      13834 non-null  object \n",
      " 9   kickerId                13760 non-null  float64\n",
      " 10  returnerId              6936 non-null   object \n",
      " 11  kickBlockerId           39 non-null     float64\n",
      " 12  yardlineSide            13668 non-null  object \n",
      " 13  yardlineNumber          13834 non-null  int64  \n",
      " 14  gameClock               13834 non-null  object \n",
      " 15  penaltyCodes            997 non-null    object \n",
      " 16  penaltyJerseyNumbers    997 non-null    object \n",
      " 17  penaltyYards            997 non-null    float64\n",
      " 18  preSnapHomeScore        13834 non-null  int64  \n",
      " 19  preSnapVisitorScore     13834 non-null  int64  \n",
      " 20  passResult              31 non-null     object \n",
      " 21  kickLength              13721 non-null  float64\n",
      " 22  kickReturnYardage       5324 non-null   float64\n",
      " 23  playResult              13834 non-null  int64  \n",
      " 24  absoluteYardlineNumber  13834 non-null  int64  \n",
      " 25  season                  13834 non-null  int64  \n",
      " 26  week                    13834 non-null  int64  \n",
      " 27  gameDate                13834 non-null  object \n",
      " 28  gameTimeEastern         13834 non-null  object \n",
      " 29  homeTeamAbbr            13834 non-null  object \n",
      " 30  visitorTeamAbbr         13834 non-null  object \n",
      "dtypes: float64(5), int64(12), object(14)\n",
      "memory usage: 3.4+ MB\n"
     ]
    }
   ],
   "source": [
    "# add on the season to the dataset\n",
    "plays_returnable = plays_returnable.merge(games, on = 'gameId', how='left')\n",
    "plays_returnable.info()"
   ]
  },
  {
   "cell_type": "code",
   "execution_count": 59,
   "metadata": {},
   "outputs": [
    {
     "data": {
      "text/plain": [
       "season  specialTeamsPlayType  specialTeamsResult      \n",
       "2018    Kickoff               Touchback                   1555\n",
       "                              Return                       976\n",
       "                              Muffed                        19\n",
       "                              Out of Bounds                 18\n",
       "                              Kickoff Team Recovery          5\n",
       "                              Fair Catch                     2\n",
       "                              Downed                         1\n",
       "        Punt                  Return                       811\n",
       "                              Fair Catch                   582\n",
       "                              Downed                       305\n",
       "                              Out of Bounds                205\n",
       "                              Touchback                    146\n",
       "                              Muffed                        63\n",
       "                              Non-Special Teams Result      26\n",
       "                              Blocked Punt                  16\n",
       "2019    Kickoff               Touchback                   1565\n",
       "                              Return                       935\n",
       "                              Out of Bounds                 27\n",
       "                              Muffed                        24\n",
       "                              Kickoff Team Recovery          8\n",
       "                              Fair Catch                     3\n",
       "                              Downed                         2\n",
       "        Punt                  Return                       770\n",
       "                              Fair Catch                   541\n",
       "                              Downed                       300\n",
       "                              Out of Bounds                222\n",
       "                              Touchback                    106\n",
       "                              Muffed                        58\n",
       "                              Non-Special Teams Result      25\n",
       "                              Blocked Punt                  11\n",
       "2020    Kickoff               Touchback                   1653\n",
       "                              Return                      1010\n",
       "                              Out of Bounds                 19\n",
       "                              Muffed                        17\n",
       "                              Kickoff Team Recovery          3\n",
       "                              Downed                         1\n",
       "        Punt                  Return                       705\n",
       "                              Fair Catch                   517\n",
       "                              Downed                       224\n",
       "                              Out of Bounds                159\n",
       "                              Touchback                    131\n",
       "                              Muffed                        33\n",
       "                              Non-Special Teams Result      23\n",
       "                              Blocked Punt                  12\n",
       "Name: specialTeamsResult, dtype: int64"
      ]
     },
     "execution_count": 59,
     "metadata": {},
     "output_type": "execute_result"
    }
   ],
   "source": [
    "plays_returnable.groupby(['season', 'specialTeamsPlayType']).specialTeamsResult.value_counts()"
   ]
  },
  {
   "cell_type": "code",
   "execution_count": 60,
   "metadata": {},
   "outputs": [
    {
     "data": {
      "image/png": "[encoded data removed]",
      "text/plain": [
       "<Figure size 1512x756 with 6 Axes>"
      ]
     },
     "metadata": {
      "needs_background": "light"
     },
     "output_type": "display_data"
    }
   ],
   "source": [
    "# Display the play results based on the season (Row) and also on the type (col)\n",
    "order = plays_returnable.specialTeamsResult.value_counts().index\n",
    "g = sb.FacetGrid(data = plays_returnable, row = 'season', col = 'specialTeamsPlayType', height=3.5, aspect=3)\n",
    "g.map(sb.countplot, 'specialTeamsResult', orient = 'h', color=BASE_COLOR, order = order );\n",
    "g.set_titles(col_template = '{col_name}', row_template='{row_name}');"
   ]
  },
  {
   "cell_type": "markdown",
   "metadata": {
    "tags": []
   },
   "source": [
    "\n",
    "\n",
    ">**Rubric Tip**: Visualizations should depict the data appropriately so that the plots are easily interpretable. You should choose an appropriate plot type, data encodings, and formatting as needed. The formatting may include setting/adding the title, labels, legend, and comments. Also, do not overplot or incorrectly plot ordinal data."
   ]
  },
  {
   "cell_type": "code",
   "execution_count": null,
   "metadata": {},
   "outputs": [],
   "source": []
  },
  {
   "cell_type": "code",
   "execution_count": null,
   "metadata": {},
   "outputs": [],
   "source": []
  },
  {
   "cell_type": "markdown",
   "metadata": {},
   "source": [
    "### Discuss the distribution(s) of your variable(s) of interest. Were there any unusual points? Did you need to perform any transformations?\n",
    "\n",
    "> Your answer here!\n",
    "\n",
    "### Of the features you investigated, were there any unusual distributions? Did you perform any operations on the data to tidy, adjust, or change the form of the data? If so, why did you do this?\n",
    "\n",
    "> Your answer here!"
   ]
  },
  {
   "cell_type": "markdown",
   "metadata": {},
   "source": [
    "## Bivariate Exploration\n",
    "\n",
    "> In this section, investigate relationships between pairs of variables in your\n",
    "data. Make sure the variables that you cover here have been introduced in some\n",
    "fashion in the previous section (univariate exploration)."
   ]
  },
  {
   "cell_type": "code",
   "execution_count": null,
   "metadata": {},
   "outputs": [],
   "source": []
  },
  {
   "cell_type": "markdown",
   "metadata": {},
   "source": [
    "### Talk about some of the relationships you observed in this part of the investigation. How did the feature(s) of interest vary with other features in the dataset?\n",
    "\n",
    "> Your answer here!\n",
    "\n",
    "### Did you observe any interesting relationships between the other features (not the main feature(s) of interest)?\n",
    "\n",
    "> Your answer here!"
   ]
  },
  {
   "cell_type": "markdown",
   "metadata": {},
   "source": [
    "## Multivariate Exploration\n",
    "\n",
    "> Create plots of three or more variables to investigate your data even\n",
    "further. Make sure that your investigations are justified, and follow from\n",
    "your work in the previous sections."
   ]
  },
  {
   "cell_type": "code",
   "execution_count": null,
   "metadata": {},
   "outputs": [],
   "source": []
  },
  {
   "cell_type": "markdown",
   "metadata": {},
   "source": [
    "### Talk about some of the relationships you observed in this part of the investigation. Were there features that strengthened each other in terms of looking at your feature(s) of interest?\n",
    "\n",
    "> Your answer here!\n",
    "\n",
    "### Were there any interesting or surprising interactions between features?\n",
    "\n",
    "> Your answer here!"
   ]
  },
  {
   "cell_type": "markdown",
   "metadata": {},
   "source": [
    "## Conclusions\n",
    ">You can write a summary of the main findings and reflect on the steps taken during the data exploration.\n"
   ]
  },
  {
   "cell_type": "markdown",
   "metadata": {},
   "source": [
    "\n",
    "> Remove all Tips mentioned above, before you convert this notebook to PDF/HTML\n",
    "\n",
    "\n",
    "> At the end of your report, make sure that you export the notebook as an\n",
    "html file from the `File > Download as... > HTML or PDF` menu. Make sure you keep\n",
    "track of where the exported file goes, so you can put it in the same folder\n",
    "as this notebook for project submission. Also, make sure you remove all of\n",
    "the quote-formatted guide notes like this one before you finish your report!\n",
    "\n"
   ]
  },
  {
   "cell_type": "code",
   "execution_count": null,
   "metadata": {},
   "outputs": [],
   "source": []
  }
 ],
 "metadata": {
  "kernelspec": {
   "display_name": "Python 3 (ipykernel)",
   "language": "python",
   "name": "python3"
  },
  "language_info": {
   "codemirror_mode": {
    "name": "ipython",
    "version": 3
   },
   "file_extension": ".py",
   "mimetype": "text/x-python",
   "name": "python",
   "nbconvert_exporter": "python",
   "pygments_lexer": "ipython3",
   "version": "3.8.11"
  }
 },
 "nbformat": 4,
 "nbformat_minor": 4
}
